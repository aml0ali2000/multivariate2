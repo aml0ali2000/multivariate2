{
 "cells": [
  {
   "cell_type": "code",
   "execution_count": 18,
   "id": "8ff6f8b6",
   "metadata": {},
   "outputs": [],
   "source": [
    "import numpy as np\n",
    "import pandas as pd\n",
    "import matplotlib.pyplot as plt\n",
    "\n"
   ]
  },
  {
   "cell_type": "code",
   "execution_count": 19,
   "id": "fe87d00f",
   "metadata": {},
   "outputs": [
    {
     "name": "stdout",
     "output_type": "stream",
     "text": [
      "data = \n",
      "   Size  Bedrooms   Price\n",
      "0  2104         3  399900\n",
      "1  1600         3  329900\n",
      "2  2400         3  369000\n",
      "3  1416         2  232000\n",
      "4  3000         4  539900\n",
      "5  1985         4  299900\n",
      "6  1534         3  314900\n",
      "7  1427         3  198999\n",
      "8  1380         3  212000\n",
      "9  1494         3  242500\n",
      "\n",
      "data.describe = \n",
      "              Size   Bedrooms          Price\n",
      "count    47.000000  47.000000      47.000000\n",
      "mean   2000.680851   3.170213  340412.659574\n",
      "std     794.702354   0.760982  125039.899586\n",
      "min     852.000000   1.000000  169900.000000\n",
      "25%    1432.000000   3.000000  249900.000000\n",
      "50%    1888.000000   3.000000  299900.000000\n",
      "75%    2269.000000   4.000000  384450.000000\n",
      "max    4478.000000   5.000000  699900.000000\n",
      "\n",
      "data after normalization = \n",
      "       Size  Bedrooms     Price\n",
      "0  0.130010 -0.223675  0.475747\n",
      "1 -0.504190 -0.223675 -0.084074\n",
      "2  0.502476 -0.223675  0.228626\n",
      "3 -0.735723 -1.537767 -0.867025\n",
      "4  1.257476  1.090417  1.595389\n",
      "5 -0.019732  1.090417 -0.323998\n",
      "6 -0.587240 -0.223675 -0.204036\n",
      "7 -0.721881 -0.223675 -1.130948\n",
      "8 -0.781023 -0.223675 -1.026973\n",
      "9 -0.637573 -0.223675 -0.783051\n"
     ]
    }
   ],
   "source": [
    "#read data    \n",
    "path2 = 'multivariateregressiondata.txt'\n",
    "data2 = pd.read_csv(path2, header=None, names=['Size', 'Bedrooms', 'Price'])\n",
    "\n",
    "#show data\n",
    "print('data = ')\n",
    "print(data2.head(10) )\n",
    "print()\n",
    "print('data.describe = ')\n",
    "print(data2.describe())\n",
    "\n",
    "# rescaling data\n",
    "data2 = (data2 - data2.mean()) / data2.std()\n",
    "\n",
    "print()\n",
    "print('data after normalization = ')\n",
    "print(data2.head(10) )\n",
    "\n",
    "\n",
    "\n",
    "\n"
   ]
  },
  {
   "cell_type": "code",
   "execution_count": 20,
   "id": "f8caa2a5",
   "metadata": {},
   "outputs": [
    {
     "name": "stdout",
     "output_type": "stream",
     "text": [
      "data after adding 1 = \n",
      "   Ones      Size  Bedrooms     Price\n",
      "0     1  0.130010 -0.223675  0.475747\n",
      "1     1 -0.504190 -0.223675 -0.084074\n",
      "2     1  0.502476 -0.223675  0.228626\n",
      "3     1 -0.735723 -1.537767 -0.867025\n",
      "4     1  1.257476  1.090417  1.595389\n",
      "5     1 -0.019732  1.090417 -0.323998\n",
      "6     1 -0.587240 -0.223675 -0.204036\n",
      "7     1 -0.721881 -0.223675 -1.130948\n",
      "8     1 -0.781023 -0.223675 -1.026973\n",
      "9     1 -0.637573 -0.223675 -0.783051\n"
     ]
    }
   ],
   "source": [
    "# add ones column\n",
    "data2.insert(0, 'Ones', 1)\n",
    "\n",
    "print('data after adding 1 = ')\n",
    "print(data2.head(10) )\n"
   ]
  },
  {
   "cell_type": "code",
   "execution_count": null,
   "id": "3300476c",
   "metadata": {},
   "outputs": [],
   "source": []
  },
  {
   "cell_type": "code",
   "execution_count": 21,
   "id": "fddb8938",
   "metadata": {},
   "outputs": [
    {
     "name": "stdout",
     "output_type": "stream",
     "text": [
      "**************************************\n",
      "X2 data = \n",
      "    Ones      Size  Bedrooms\n",
      "0     1  0.130010 -0.223675\n",
      "1     1 -0.504190 -0.223675\n",
      "2     1  0.502476 -0.223675\n",
      "3     1 -0.735723 -1.537767\n",
      "4     1  1.257476  1.090417\n",
      "5     1 -0.019732  1.090417\n",
      "6     1 -0.587240 -0.223675\n",
      "7     1 -0.721881 -0.223675\n",
      "8     1 -0.781023 -0.223675\n",
      "9     1 -0.637573 -0.223675\n",
      "y2 data = \n",
      "       Price\n",
      "0  0.475747\n",
      "1 -0.084074\n",
      "2  0.228626\n",
      "3 -0.867025\n",
      "4  1.595389\n",
      "5 -0.323998\n",
      "6 -0.204036\n",
      "7 -1.130948\n",
      "8 -1.026973\n",
      "9 -0.783051\n",
      "**************************************\n",
      "X2 \n",
      " [[ 1.00000000e+00  1.30009869e-01 -2.23675187e-01]\n",
      " [ 1.00000000e+00 -5.04189838e-01 -2.23675187e-01]\n",
      " [ 1.00000000e+00  5.02476364e-01 -2.23675187e-01]\n",
      " [ 1.00000000e+00 -7.35723065e-01 -1.53776691e+00]\n",
      " [ 1.00000000e+00  1.25747602e+00  1.09041654e+00]\n",
      " [ 1.00000000e+00 -1.97317285e-02  1.09041654e+00]\n",
      " [ 1.00000000e+00 -5.87239800e-01 -2.23675187e-01]\n",
      " [ 1.00000000e+00 -7.21881404e-01 -2.23675187e-01]\n",
      " [ 1.00000000e+00 -7.81023044e-01 -2.23675187e-01]\n",
      " [ 1.00000000e+00 -6.37573110e-01 -2.23675187e-01]\n",
      " [ 1.00000000e+00 -7.63567023e-02  1.09041654e+00]\n",
      " [ 1.00000000e+00 -8.56737193e-04 -2.23675187e-01]\n",
      " [ 1.00000000e+00 -1.39273340e-01 -2.23675187e-01]\n",
      " [ 1.00000000e+00  3.11729182e+00  2.40450826e+00]\n",
      " [ 1.00000000e+00 -9.21956312e-01 -2.23675187e-01]\n",
      " [ 1.00000000e+00  3.76643089e-01  1.09041654e+00]\n",
      " [ 1.00000000e+00 -8.56523009e-01 -1.53776691e+00]\n",
      " [ 1.00000000e+00 -9.62222960e-01 -2.23675187e-01]\n",
      " [ 1.00000000e+00  7.65467909e-01  1.09041654e+00]\n",
      " [ 1.00000000e+00  1.29648433e+00  1.09041654e+00]\n",
      " [ 1.00000000e+00 -2.94048269e-01 -2.23675187e-01]\n",
      " [ 1.00000000e+00 -1.41790005e-01 -1.53776691e+00]\n",
      " [ 1.00000000e+00 -4.99156507e-01 -2.23675187e-01]\n",
      " [ 1.00000000e+00 -4.86733818e-02  1.09041654e+00]\n",
      " [ 1.00000000e+00  2.37739217e+00 -2.23675187e-01]\n",
      " [ 1.00000000e+00 -1.13335621e+00 -2.23675187e-01]\n",
      " [ 1.00000000e+00 -6.82873089e-01 -2.23675187e-01]\n",
      " [ 1.00000000e+00  6.61026291e-01 -2.23675187e-01]\n",
      " [ 1.00000000e+00  2.50809813e-01 -2.23675187e-01]\n",
      " [ 1.00000000e+00  8.00701226e-01 -2.23675187e-01]\n",
      " [ 1.00000000e+00 -2.03448310e-01 -1.53776691e+00]\n",
      " [ 1.00000000e+00 -1.25918949e+00 -2.85185864e+00]\n",
      " [ 1.00000000e+00  4.94765729e-02  1.09041654e+00]\n",
      " [ 1.00000000e+00  1.42986760e+00 -2.23675187e-01]\n",
      " [ 1.00000000e+00 -2.38681627e-01  1.09041654e+00]\n",
      " [ 1.00000000e+00 -7.09298077e-01 -2.23675187e-01]\n",
      " [ 1.00000000e+00 -9.58447962e-01 -2.23675187e-01]\n",
      " [ 1.00000000e+00  1.65243186e-01  1.09041654e+00]\n",
      " [ 1.00000000e+00  2.78635031e+00  1.09041654e+00]\n",
      " [ 1.00000000e+00  2.02993169e-01  1.09041654e+00]\n",
      " [ 1.00000000e+00 -4.23656542e-01 -1.53776691e+00]\n",
      " [ 1.00000000e+00  2.98626458e-01 -2.23675187e-01]\n",
      " [ 1.00000000e+00  7.12617934e-01  1.09041654e+00]\n",
      " [ 1.00000000e+00 -1.00752294e+00 -2.23675187e-01]\n",
      " [ 1.00000000e+00 -1.44542274e+00 -1.53776691e+00]\n",
      " [ 1.00000000e+00 -1.87089985e-01  1.09041654e+00]\n",
      " [ 1.00000000e+00 -1.00374794e+00 -2.23675187e-01]]\n",
      "X2.shape =  (47, 3)\n",
      "**************************************\n",
      "theta2 \n",
      " [[0 0 0]]\n",
      "theta2.shape =  (1, 3)\n",
      "**************************************\n",
      "y2 \n",
      " [[ 0.47574687]\n",
      " [-0.08407444]\n",
      " [ 0.22862575]\n",
      " [-0.86702453]\n",
      " [ 1.59538948]\n",
      " [-0.32399786]\n",
      " [-0.20403615]\n",
      " [-1.13094828]\n",
      " [-1.02697347]\n",
      " [-0.78305133]\n",
      " [-0.80305294]\n",
      " [ 0.05268191]\n",
      " [-0.08328269]\n",
      " [ 2.87498104]\n",
      " [-0.64389575]\n",
      " [ 0.87561923]\n",
      " [-0.32399786]\n",
      " [-1.12374258]\n",
      " [ 1.27627534]\n",
      " [ 2.06803861]\n",
      " [-0.69987788]\n",
      " [-0.68308324]\n",
      " [-0.77985235]\n",
      " [-0.64389575]\n",
      " [ 1.86730269]\n",
      " [-0.72387022]\n",
      " [ 0.99238196]\n",
      " [ 1.02837047]\n",
      " [ 1.07635515]\n",
      " [-0.32399786]\n",
      " [ 0.0758745 ]\n",
      " [-1.363666  ]\n",
      " [-0.20403615]\n",
      " [ 1.91528737]\n",
      " [-0.43596212]\n",
      " [-0.72387022]\n",
      " [-0.88381916]\n",
      " [ 0.03668701]\n",
      " [ 1.66816625]\n",
      " [-0.42716493]\n",
      " [ 0.22462702]\n",
      " [-0.08407444]\n",
      " [-0.21123385]\n",
      " [-0.33119556]\n",
      " [-1.28369153]\n",
      " [-0.32399786]\n",
      " [-0.80704367]]\n",
      "y2.shape =  (47, 1)\n",
      "**************************************\n"
     ]
    }
   ],
   "source": [
    "# separate X (training data) from y (target variable)\n",
    "cols = data2.shape[1]\n",
    "X2 = data2.iloc[:,0:cols-1]\n",
    "y2 = data2.iloc[:,cols-1:cols]\n",
    "\n",
    "\n",
    "print('**************************************')\n",
    "print('X2 data = \\n' ,X2.head(10) )\n",
    "print('y2 data = \\n' ,y2.head(10) )\n",
    "print('**************************************')\n",
    "\n",
    "\n",
    "# convert to matrices and initialize theta\n",
    "X2 = np.matrix(X2.values)\n",
    "y2 = np.matrix(y2.values)\n",
    "theta2 = np.matrix(np.array([0,0,0]))\n",
    "\n",
    "\n",
    "print('X2 \\n',X2)\n",
    "print('X2.shape = ' , X2.shape)\n",
    "print('**************************************')\n",
    "print('theta2 \\n',theta2)\n",
    "print('theta2.shape = ' , theta2.shape)\n",
    "print('**************************************')\n",
    "print('y2 \\n',y2)\n",
    "print('y2.shape = ' , y2.shape)\n",
    "print('**************************************')\n",
    "\n"
   ]
  },
  {
   "cell_type": "code",
   "execution_count": 22,
   "id": "b3b74a27",
   "metadata": {},
   "outputs": [],
   "source": [
    "\n",
    "def computeCost(X, y, theta):\n",
    "    inner = np.power(((X * theta.T) - y), 2)\n",
    "    return np.sum(inner) / (2 * len(X))\n",
    "\n",
    "\n",
    "def gradientDescent(X, y, theta, alpha, iters):\n",
    "    temp = np.matrix(np.zeros(theta.shape))\n",
    "    parameters = int(theta.ravel().shape[1])\n",
    "    cost = np.zeros(iters)\n",
    "    \n",
    "    for i in range(iters):\n",
    "        error = (X * theta.T) - y\n",
    "        \n",
    "        for j in range(parameters):\n",
    "            term = np.multiply(error, X[:,j])\n",
    "            temp[0,j] = theta[0,j] - ((alpha / len(X)) * np.sum(term))\n",
    "            \n",
    "        theta = temp\n",
    "        cost[i] = computeCost(X, y, theta)\n",
    "        \n",
    "    return theta, cost\n",
    "\n"
   ]
  },
  {
   "cell_type": "code",
   "execution_count": 23,
   "id": "e10cf944",
   "metadata": {},
   "outputs": [
    {
     "name": "stdout",
     "output_type": "stream",
     "text": [
      "g2 =  [[-1.09486888e-16  8.84765988e-01 -5.31788197e-02]]\n",
      "cost2  =  [0.40693147 0.34617152 0.30110291 0.26742183 0.24202804 0.22268634\n",
      " 0.20778332 0.19615275 0.18695011 0.17956245 0.17354364 0.16856787\n",
      " 0.1643961  0.16085209 0.15780504 0.15515715 0.15283462 0.1507812\n",
      " 0.14895353 0.14731772 0.14584693 0.14451959 0.14331811 0.14222795\n",
      " 0.14123687 0.14033451 0.13951191 0.13876131 0.13807589 0.13744961\n",
      " 0.13687711 0.13635356 0.13587464 0.13543646 0.13503547 0.13466846\n",
      " 0.13433251 0.13402498 0.13374344 0.13348567 0.13324967 0.13303358\n",
      " 0.13283572 0.13265455 0.13248866 0.13233675 0.13219766 0.13207029\n",
      " 0.13195365 0.13184685]\n",
      "computeCost =  0.13068648053904197\n",
      "**************************************\n"
     ]
    }
   ],
   "source": [
    "# initialize variables for learning rate and iterations\n",
    "alpha = 0.1\n",
    "iters = 1000\n",
    "\n",
    "# perform linear regression on the data set\n",
    "g2, cost2 = gradientDescent(X2, y2, theta2, alpha, iters)\n",
    "\n",
    "# get the cost (error) of the model\n",
    "thiscost = computeCost(X2, y2, g2)\n",
    "\n",
    "\n",
    "print('g2 = ' , g2)\n",
    "print('cost2  = ' , cost2[0:50] )\n",
    "print('computeCost = ' , thiscost)\n",
    "print('**************************************')\n",
    "\n",
    "\n"
   ]
  },
  {
   "cell_type": "code",
   "execution_count": 24,
   "id": "96d93fc7",
   "metadata": {},
   "outputs": [
    {
     "name": "stdout",
     "output_type": "stream",
     "text": [
      "x \n",
      " [-1.44542274 -1.39933471 -1.35324669 -1.30715866 -1.26107063 -1.21498261\n",
      " -1.16889458 -1.12280656 -1.07671853 -1.0306305  -0.98454248 -0.93845445\n",
      " -0.89236643 -0.8462784  -0.80019038 -0.75410235 -0.70801432 -0.6619263\n",
      " -0.61583827 -0.56975025 -0.52366222 -0.47757419 -0.43148617 -0.38539814\n",
      " -0.33931012 -0.29322209 -0.24713406 -0.20104604 -0.15495801 -0.10886999\n",
      " -0.06278196 -0.01669394  0.02939409  0.07548212  0.12157014  0.16765817\n",
      "  0.21374619  0.25983422  0.30592225  0.35201027  0.3980983   0.44418632\n",
      "  0.49027435  0.53636238  0.5824504   0.62853843  0.67462645  0.72071448\n",
      "  0.7668025   0.81289053  0.85897856  0.90506658  0.95115461  0.99724263\n",
      "  1.04333066  1.08941869  1.13550671  1.18159474  1.22768276  1.27377079\n",
      "  1.31985881  1.36594684  1.41203487  1.45812289  1.50421092  1.55029894\n",
      "  1.59638697  1.642475    1.68856302  1.73465105  1.78073907  1.8268271\n",
      "  1.87291513  1.91900315  1.96509118  2.0111792   2.05726723  2.10335525\n",
      "  2.14944328  2.19553131  2.24161933  2.28770736  2.33379538  2.37988341\n",
      "  2.42597144  2.47205946  2.51814749  2.56423551  2.61032354  2.65641157\n",
      "  2.70249959  2.74858762  2.79467564  2.84076367  2.88685169  2.93293972\n",
      "  2.97902775  3.02511577  3.0712038   3.11729182]\n",
      "g \n",
      " [[-1.09486888e-16  8.84765988e-01 -5.31788197e-02]]\n",
      "f \n",
      " [-1.27886088 -1.23808376 -1.19730664 -1.15652952 -1.1157524  -1.07497529\n",
      " -1.03419817 -0.99342105 -0.95264393 -0.91186682 -0.8710897  -0.83031258\n",
      " -0.78953546 -0.74875835 -0.70798123 -0.66720411 -0.62642699 -0.58564987\n",
      " -0.54487276 -0.50409564 -0.46331852 -0.4225414  -0.38176429 -0.34098717\n",
      " -0.30021005 -0.25943293 -0.21865581 -0.1778787  -0.13710158 -0.09632446\n",
      " -0.05554734 -0.01477023  0.02600689  0.06678401  0.10756113  0.14833824\n",
      "  0.18911536  0.22989248  0.2706696   0.31144672  0.35222383  0.39300095\n",
      "  0.43377807  0.47455519  0.5153323   0.55610942  0.59688654  0.63766366\n",
      "  0.67844078  0.71921789  0.75999501  0.80077213  0.84154925  0.88232636\n",
      "  0.92310348  0.9638806   1.00465772  1.04543483  1.08621195  1.12698907\n",
      "  1.16776619  1.20854331  1.24932042  1.29009754  1.33087466  1.37165178\n",
      "  1.41242889  1.45320601  1.49398313  1.53476025  1.57553737  1.61631448\n",
      "  1.6570916   1.69786872  1.73864584  1.77942295  1.82020007  1.86097719\n",
      "  1.90175431  1.94253143  1.98330854  2.02408566  2.06486278  2.1056399\n",
      "  2.14641701  2.18719413  2.22797125  2.26874837  2.30952548  2.3503026\n",
      "  2.39107972  2.43185684  2.47263396  2.51341107  2.55418819  2.59496531\n",
      "  2.63574243  2.67651954  2.71729666  2.75807378]\n"
     ]
    },
    {
     "data": {
      "text/plain": [
       "Text(0.5, 1.0, 'Size vs. Price')"
      ]
     },
     "execution_count": 24,
     "metadata": {},
     "output_type": "execute_result"
    },
    {
     "data": {
      "image/png": "[encoded data removed]",
      "text/plain": [
       "<Figure size 360x360 with 1 Axes>"
      ]
     },
     "metadata": {
      "needs_background": "light"
     },
     "output_type": "display_data"
    }
   ],
   "source": [
    "# get best fit line for Size vs. Price\n",
    "\n",
    "x = np.linspace(data2.Size.min(), data2.Size.max(), 100)\n",
    "print('x \\n',x)\n",
    "print('g \\n',g2)\n",
    "\n",
    "f = g2[0, 0] + (g2[0, 1] * x)\n",
    "print('f \\n',f)\n",
    "\n",
    "# draw the line for Size vs. Price\n",
    "\n",
    "fig, ax = plt.subplots(figsize=(5,5))\n",
    "ax.plot(x, f, 'r', label='Prediction')\n",
    "ax.scatter(data2.Size, data2.Price, label='Training Data')\n",
    "ax.legend(loc=2)\n",
    "ax.set_xlabel('Size')\n",
    "ax.set_ylabel('Price')\n",
    "ax.set_title('Size vs. Price')\n",
    "\n",
    "\n"
   ]
  },
  {
   "cell_type": "code",
   "execution_count": 25,
   "id": "62d74d2f",
   "metadata": {},
   "outputs": [
    {
     "name": "stdout",
     "output_type": "stream",
     "text": [
      "x \n",
      " [-2.85185864 -2.79876402 -2.74566941 -2.69257479 -2.63948018 -2.58638556\n",
      " -2.53329095 -2.48019633 -2.42710172 -2.3740071  -2.32091249 -2.26781787\n",
      " -2.21472325 -2.16162864 -2.10853402 -2.05543941 -2.00234479 -1.94925018\n",
      " -1.89615556 -1.84306095 -1.78996633 -1.73687172 -1.6837771  -1.63068249\n",
      " -1.57758787 -1.52449326 -1.47139864 -1.41830403 -1.36520941 -1.3121148\n",
      " -1.25902018 -1.20592557 -1.15283095 -1.09973634 -1.04664172 -0.99354711\n",
      " -0.94045249 -0.88735788 -0.83426326 -0.78116865 -0.72807403 -0.67497942\n",
      " -0.6218848  -0.56879019 -0.51569557 -0.46260096 -0.40950634 -0.35641173\n",
      " -0.30331711 -0.25022249 -0.19712788 -0.14403326 -0.09093865 -0.03784403\n",
      "  0.01525058  0.0683452   0.12143981  0.17453443  0.22762904  0.28072366\n",
      "  0.33381827  0.38691289  0.4400075   0.49310212  0.54619673  0.59929135\n",
      "  0.65238596  0.70548058  0.75857519  0.81166981  0.86476442  0.91785904\n",
      "  0.97095365  1.02404827  1.07714288  1.1302375   1.18333211  1.23642673\n",
      "  1.28952134  1.34261596  1.39571057  1.44880519  1.5018998   1.55499442\n",
      "  1.60808904  1.66118365  1.71427827  1.76737288  1.8204675   1.87356211\n",
      "  1.92665673  1.97975134  2.03284596  2.08594057  2.13903519  2.1921298\n",
      "  2.24522442  2.29831903  2.35141365  2.40450826]\n",
      "g \n",
      " [[-1.09486888e-16  8.84765988e-01 -5.31788197e-02]]\n",
      "f \n",
      " [-2.52322752 -2.47625121 -2.4292749  -2.38229859 -2.33532229 -2.28834598\n",
      " -2.24136967 -2.19439336 -2.14741705 -2.10044074 -2.05346443 -2.00648812\n",
      " -1.95951181 -1.9125355  -1.86555919 -1.81858288 -1.77160657 -1.72463026\n",
      " -1.67765395 -1.63067764 -1.58370133 -1.53672502 -1.48974871 -1.4427724\n",
      " -1.39579609 -1.34881978 -1.30184347 -1.25486716 -1.20789085 -1.16091454\n",
      " -1.11393824 -1.06696193 -1.01998562 -0.97300931 -0.926033   -0.87905669\n",
      " -0.83208038 -0.78510407 -0.73812776 -0.69115145 -0.64417514 -0.59719883\n",
      " -0.55022252 -0.50324621 -0.4562699  -0.40929359 -0.36231728 -0.31534097\n",
      " -0.26836466 -0.22138835 -0.17441204 -0.12743573 -0.08045942 -0.03348311\n",
      "  0.0134932   0.0604695   0.10744581  0.15442212  0.20139843  0.24837474\n",
      "  0.29535105  0.34232736  0.38930367  0.43627998  0.48325629  0.5302326\n",
      "  0.57720891  0.62418522  0.67116153  0.71813784  0.76511415  0.81209046\n",
      "  0.85906677  0.90604308  0.95301939  0.9999957   1.04697201  1.09394832\n",
      "  1.14092463  1.18790094  1.23487725  1.28185355  1.32882986  1.37580617\n",
      "  1.42278248  1.46975879  1.5167351   1.56371141  1.61068772  1.65766403\n",
      "  1.70464034  1.75161665  1.79859296  1.84556927  1.89254558  1.93952189\n",
      "  1.9864982   2.03347451  2.08045082  2.12742713]\n"
     ]
    },
    {
     "data": {
      "text/plain": [
       "Text(0.5, 1.0, 'Size vs. Price')"
      ]
     },
     "execution_count": 25,
     "metadata": {},
     "output_type": "execute_result"
    },
    {
     "data": {
      "image/png": "[encoded data removed]",
      "text/plain": [
       "<Figure size 360x360 with 1 Axes>"
      ]
     },
     "metadata": {
      "needs_background": "light"
     },
     "output_type": "display_data"
    }
   ],
   "source": [
    "# get best fit line for Bedrooms vs. Price\n",
    "\n",
    "x = np.linspace(data2.Bedrooms.min(), data2.Bedrooms.max(), 100)\n",
    "print('x \\n',x)\n",
    "print('g \\n',g2)\n",
    "\n",
    "f = g2[0, 0] + (g2[0, 1] * x)\n",
    "print('f \\n',f)\n",
    "\n",
    "# draw the line  for Bedrooms vs. Price\n",
    "\n",
    "fig, ax = plt.subplots(figsize=(5,5))\n",
    "ax.plot(x, f, 'r', label='Prediction')\n",
    "ax.scatter(data2.Bedrooms, data2.Price, label='Traning Data')\n",
    "ax.legend(loc=2)\n",
    "ax.set_xlabel('Bedrooms')\n",
    "ax.set_ylabel('Price')\n",
    "ax.set_title('Size vs. Price')\n",
    "\n"
   ]
  },
  {
   "cell_type": "code",
   "execution_count": 26,
   "id": "3fb4ad7d",
   "metadata": {},
   "outputs": [
    {
     "data": {
      "text/plain": [
       "Text(0.5, 1.0, 'Error vs. Training Epoch')"
      ]
     },
     "execution_count": 26,
     "metadata": {},
     "output_type": "execute_result"
    },
    {
     "data": {
      "image/png": "[encoded data removed]",
      "text/plain": [
       "<Figure size 360x360 with 1 Axes>"
      ]
     },
     "metadata": {
      "needs_background": "light"
     },
     "output_type": "display_data"
    }
   ],
   "source": [
    "\n",
    "\n",
    "# draw error graph\n",
    "\n",
    "fig, ax = plt.subplots(figsize=(5,5))\n",
    "ax.plot(np.arange(iters), cost2, 'r')\n",
    "ax.set_xlabel('Iterations')\n",
    "ax.set_ylabel('Cost')\n",
    "ax.set_title('Error vs. Training Epoch')"
   ]
  },
  {
   "cell_type": "code",
   "execution_count": null,
   "id": "0f7bd1ee",
   "metadata": {},
   "outputs": [],
   "source": []
  },
  {
   "cell_type": "code",
   "execution_count": null,
   "id": "f2a8d802",
   "metadata": {},
   "outputs": [],
   "source": []
  }
 ],
 "metadata": {
  "kernelspec": {
   "display_name": "Python 3 (ipykernel)",
   "language": "python",
   "name": "python3"
  },
  "language_info": {
   "codemirror_mode": {
    "name": "ipython",
    "version": 3
   },
   "file_extension": ".py",
   "mimetype": "text/x-python",
   "name": "python",
   "nbconvert_exporter": "python",
   "pygments_lexer": "ipython3",
   "version": "3.12.1"
  }
 },
 "nbformat": 4,
 "nbformat_minor": 5
}
