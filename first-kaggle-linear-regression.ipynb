{
 "cells": [
  {
   "cell_type": "code",
   "execution_count": 1,
   "id": "03530107",
   "metadata": {
    "_cell_guid": "b1076dfc-b9ad-4769-8c92-a6c4dae69d19",
    "_uuid": "8f2839f25d086af736a60e9eeb907d3b93b6e0e5",
    "execution": {
     "iopub.execute_input": "2023-12-04T16:05:32.897370Z",
     "iopub.status.busy": "2023-12-04T16:05:32.896736Z",
     "iopub.status.idle": "2023-12-04T16:05:33.296824Z",
     "shell.execute_reply": "2023-12-04T16:05:33.295653Z"
    },
    "papermill": {
     "duration": 0.413183,
     "end_time": "2023-12-04T16:05:33.300833",
     "exception": false,
     "start_time": "2023-12-04T16:05:32.887650",
     "status": "completed"
    },
    "tags": []
   },
   "outputs": [
    {
     "name": "stdout",
     "output_type": "stream",
     "text": [
      "/kaggle/input/linear-regression-dataset/Linear Regression - Sheet1.csv\n",
      "/kaggle/input/random-linear-regression/train.csv\n",
      "/kaggle/input/random-linear-regression/test.csv\n",
      "/kaggle/input/mastercard-stock-data-latest-and-updated/Mastercard_stock_info.csv\n",
      "/kaggle/input/mastercard-stock-data-latest-and-updated/Mastercard_stock_history.csv\n",
      "/kaggle/input/linear-regression/Linear Regression - Sheet1.csv\n"
     ]
    }
   ],
   "source": [
    "# This Python 3 environment comes with many helpful analytics libraries installed\n",
    "# It is defined by the kaggle/python Docker image: https://github.com/kaggle/docker-python\n",
    "# For example, here's several helpful packages to load\n",
    "\n",
    "import numpy as np # linear algebra\n",
    "import pandas as pd # data processing, CSV file I/O (e.g. pd.read_csv)\n",
    "\n",
    "# Input data files are available in the read-only \"../input/\" directory\n",
    "# For example, running this (by clicking run or pressing Shift+Enter) will list all files under the input directory\n",
    "\n",
    "import os\n",
    "for dirname, _, filenames in os.walk('/kaggle/input'):\n",
    "    for filename in filenames:\n",
    "        print(os.path.join(dirname, filename))\n",
    "\n",
    "# You can write up to 20GB to the current directory (/kaggle/working/) that gets preserved as output when you create a version using \"Save & Run All\" \n",
    "# You can also write temporary files to /kaggle/temp/, but they won't be saved outside of the current session"
   ]
  },
  {
   "cell_type": "code",
   "execution_count": 2,
   "id": "12c300c6",
   "metadata": {
    "execution": {
     "iopub.execute_input": "2023-12-04T16:05:33.314014Z",
     "iopub.status.busy": "2023-12-04T16:05:33.313271Z",
     "iopub.status.idle": "2023-12-04T16:05:33.317653Z",
     "shell.execute_reply": "2023-12-04T16:05:33.316643Z"
    },
    "papermill": {
     "duration": 0.013183,
     "end_time": "2023-12-04T16:05:33.319817",
     "exception": false,
     "start_time": "2023-12-04T16:05:33.306634",
     "status": "completed"
    },
    "tags": []
   },
   "outputs": [],
   "source": [
    " import numpy as np"
   ]
  },
  {
   "cell_type": "code",
   "execution_count": 3,
   "id": "efe630a3",
   "metadata": {
    "execution": {
     "iopub.execute_input": "2023-12-04T16:05:33.332311Z",
     "iopub.status.busy": "2023-12-04T16:05:33.331734Z",
     "iopub.status.idle": "2023-12-04T16:05:33.335537Z",
     "shell.execute_reply": "2023-12-04T16:05:33.334744Z"
    },
    "papermill": {
     "duration": 0.012337,
     "end_time": "2023-12-04T16:05:33.337515",
     "exception": false,
     "start_time": "2023-12-04T16:05:33.325178",
     "status": "completed"
    },
    "tags": []
   },
   "outputs": [],
   "source": [
    "import matplotlib.pyplot as plt"
   ]
  },
  {
   "cell_type": "code",
   "execution_count": 4,
   "id": "4e9d2953",
   "metadata": {
    "execution": {
     "iopub.execute_input": "2023-12-04T16:05:33.350126Z",
     "iopub.status.busy": "2023-12-04T16:05:33.349444Z",
     "iopub.status.idle": "2023-12-04T16:05:33.353559Z",
     "shell.execute_reply": "2023-12-04T16:05:33.352774Z"
    },
    "papermill": {
     "duration": 0.012569,
     "end_time": "2023-12-04T16:05:33.355573",
     "exception": false,
     "start_time": "2023-12-04T16:05:33.343004",
     "status": "completed"
    },
    "tags": []
   },
   "outputs": [],
   "source": [
    "x_distance=np.array([4,12,25,52,60])"
   ]
  },
  {
   "cell_type": "code",
   "execution_count": 5,
   "id": "d9528fc2",
   "metadata": {
    "execution": {
     "iopub.execute_input": "2023-12-04T16:05:33.368551Z",
     "iopub.status.busy": "2023-12-04T16:05:33.367800Z",
     "iopub.status.idle": "2023-12-04T16:05:33.372353Z",
     "shell.execute_reply": "2023-12-04T16:05:33.371528Z"
    },
    "papermill": {
     "duration": 0.013455,
     "end_time": "2023-12-04T16:05:33.374494",
     "exception": false,
     "start_time": "2023-12-04T16:05:33.361039",
     "status": "completed"
    },
    "tags": []
   },
   "outputs": [],
   "source": [
    "y_price=np.array([10,28,54,84,90])"
   ]
  },
  {
   "cell_type": "code",
   "execution_count": 6,
   "id": "cec0d7e6",
   "metadata": {
    "execution": {
     "iopub.execute_input": "2023-12-04T16:05:33.387737Z",
     "iopub.status.busy": "2023-12-04T16:05:33.386842Z",
     "iopub.status.idle": "2023-12-04T16:05:33.395728Z",
     "shell.execute_reply": "2023-12-04T16:05:33.394643Z"
    },
    "papermill": {
     "duration": 0.017646,
     "end_time": "2023-12-04T16:05:33.398023",
     "exception": false,
     "start_time": "2023-12-04T16:05:33.380377",
     "status": "completed"
    },
    "tags": []
   },
   "outputs": [
    {
     "data": {
      "text/plain": [
       "(array([ 4, 12, 25, 52, 60]), array([10, 28, 54, 84, 90]))"
      ]
     },
     "execution_count": 6,
     "metadata": {},
     "output_type": "execute_result"
    }
   ],
   "source": [
    "x_distance,y_price"
   ]
  },
  {
   "cell_type": "code",
   "execution_count": 7,
   "id": "e09392c6",
   "metadata": {
    "execution": {
     "iopub.execute_input": "2023-12-04T16:05:33.411868Z",
     "iopub.status.busy": "2023-12-04T16:05:33.411085Z",
     "iopub.status.idle": "2023-12-04T16:05:33.416155Z",
     "shell.execute_reply": "2023-12-04T16:05:33.415403Z"
    },
    "papermill": {
     "duration": 0.014542,
     "end_time": "2023-12-04T16:05:33.418486",
     "exception": false,
     "start_time": "2023-12-04T16:05:33.403944",
     "status": "completed"
    },
    "tags": []
   },
   "outputs": [],
   "source": [
    "x_distance.shape=(5,1)"
   ]
  },
  {
   "cell_type": "code",
   "execution_count": 8,
   "id": "f90e98e6",
   "metadata": {
    "execution": {
     "iopub.execute_input": "2023-12-04T16:05:33.431207Z",
     "iopub.status.busy": "2023-12-04T16:05:33.430472Z",
     "iopub.status.idle": "2023-12-04T16:05:33.435199Z",
     "shell.execute_reply": "2023-12-04T16:05:33.434378Z"
    },
    "papermill": {
     "duration": 0.013579,
     "end_time": "2023-12-04T16:05:33.437391",
     "exception": false,
     "start_time": "2023-12-04T16:05:33.423812",
     "status": "completed"
    },
    "tags": []
   },
   "outputs": [],
   "source": [
    "y_price.shape=(5,1)"
   ]
  },
  {
   "cell_type": "code",
   "execution_count": 9,
   "id": "9882dcb0",
   "metadata": {
    "execution": {
     "iopub.execute_input": "2023-12-04T16:05:33.450223Z",
     "iopub.status.busy": "2023-12-04T16:05:33.449461Z",
     "iopub.status.idle": "2023-12-04T16:05:34.857336Z",
     "shell.execute_reply": "2023-12-04T16:05:34.856106Z"
    },
    "papermill": {
     "duration": 1.417305,
     "end_time": "2023-12-04T16:05:34.860046",
     "exception": false,
     "start_time": "2023-12-04T16:05:33.442741",
     "status": "completed"
    },
    "tags": []
   },
   "outputs": [],
   "source": [
    "from sklearn.linear_model import LinearRegression"
   ]
  },
  {
   "cell_type": "code",
   "execution_count": 10,
   "id": "29a5ad2b",
   "metadata": {
    "execution": {
     "iopub.execute_input": "2023-12-04T16:05:34.873012Z",
     "iopub.status.busy": "2023-12-04T16:05:34.872388Z",
     "iopub.status.idle": "2023-12-04T16:05:34.876338Z",
     "shell.execute_reply": "2023-12-04T16:05:34.875572Z"
    },
    "papermill": {
     "duration": 0.01281,
     "end_time": "2023-12-04T16:05:34.878449",
     "exception": false,
     "start_time": "2023-12-04T16:05:34.865639",
     "status": "completed"
    },
    "tags": []
   },
   "outputs": [],
   "source": [
    "from sklearn .metrics import mean_squared_error"
   ]
  },
  {
   "cell_type": "code",
   "execution_count": 11,
   "id": "c9340495",
   "metadata": {
    "execution": {
     "iopub.execute_input": "2023-12-04T16:05:34.891224Z",
     "iopub.status.busy": "2023-12-04T16:05:34.890522Z",
     "iopub.status.idle": "2023-12-04T16:05:34.894805Z",
     "shell.execute_reply": "2023-12-04T16:05:34.893778Z"
    },
    "papermill": {
     "duration": 0.013235,
     "end_time": "2023-12-04T16:05:34.897057",
     "exception": false,
     "start_time": "2023-12-04T16:05:34.883822",
     "status": "completed"
    },
    "tags": []
   },
   "outputs": [],
   "source": [
    "I_reg=LinearRegression()"
   ]
  },
  {
   "cell_type": "code",
   "execution_count": 12,
   "id": "ea9b2d40",
   "metadata": {
    "execution": {
     "iopub.execute_input": "2023-12-04T16:05:34.909160Z",
     "iopub.status.busy": "2023-12-04T16:05:34.908777Z",
     "iopub.status.idle": "2023-12-04T16:05:34.932949Z",
     "shell.execute_reply": "2023-12-04T16:05:34.931898Z"
    },
    "papermill": {
     "duration": 0.032784,
     "end_time": "2023-12-04T16:05:34.935164",
     "exception": false,
     "start_time": "2023-12-04T16:05:34.902380",
     "status": "completed"
    },
    "tags": []
   },
   "outputs": [
    {
     "data": {
      "text/html": [
       "<style>#sk-container-id-1 {color: black;background-color: white;}#sk-container-id-1 pre{padding: 0;}#sk-container-id-1 div.sk-toggleable {background-color: white;}#sk-container-id-1 label.sk-toggleable__label {cursor: pointer;display: block;width: 100%;margin-bottom: 0;padding: 0.3em;box-sizing: border-box;text-align: center;}#sk-container-id-1 label.sk-toggleable__label-arrow:before {content: \"▸\";float: left;margin-right: 0.25em;color: #696969;}#sk-container-id-1 label.sk-toggleable__label-arrow:hover:before {color: black;}#sk-container-id-1 div.sk-estimator:hover label.sk-toggleable__label-arrow:before {color: black;}#sk-container-id-1 div.sk-toggleable__content {max-height: 0;max-width: 0;overflow: hidden;text-align: left;background-color: #f0f8ff;}#sk-container-id-1 div.sk-toggleable__content pre {margin: 0.2em;color: black;border-radius: 0.25em;background-color: #f0f8ff;}#sk-container-id-1 input.sk-toggleable__control:checked~div.sk-toggleable__content {max-height: 200px;max-width: 100%;overflow: auto;}#sk-container-id-1 input.sk-toggleable__control:checked~label.sk-toggleable__label-arrow:before {content: \"▾\";}#sk-container-id-1 div.sk-estimator input.sk-toggleable__control:checked~label.sk-toggleable__label {background-color: #d4ebff;}#sk-container-id-1 div.sk-label input.sk-toggleable__control:checked~label.sk-toggleable__label {background-color: #d4ebff;}#sk-container-id-1 input.sk-hidden--visually {border: 0;clip: rect(1px 1px 1px 1px);clip: rect(1px, 1px, 1px, 1px);height: 1px;margin: -1px;overflow: hidden;padding: 0;position: absolute;width: 1px;}#sk-container-id-1 div.sk-estimator {font-family: monospace;background-color: #f0f8ff;border: 1px dotted black;border-radius: 0.25em;box-sizing: border-box;margin-bottom: 0.5em;}#sk-container-id-1 div.sk-estimator:hover {background-color: #d4ebff;}#sk-container-id-1 div.sk-parallel-item::after {content: \"\";width: 100%;border-bottom: 1px solid gray;flex-grow: 1;}#sk-container-id-1 div.sk-label:hover label.sk-toggleable__label {background-color: #d4ebff;}#sk-container-id-1 div.sk-serial::before {content: \"\";position: absolute;border-left: 1px solid gray;box-sizing: border-box;top: 0;bottom: 0;left: 50%;z-index: 0;}#sk-container-id-1 div.sk-serial {display: flex;flex-direction: column;align-items: center;background-color: white;padding-right: 0.2em;padding-left: 0.2em;position: relative;}#sk-container-id-1 div.sk-item {position: relative;z-index: 1;}#sk-container-id-1 div.sk-parallel {display: flex;align-items: stretch;justify-content: center;background-color: white;position: relative;}#sk-container-id-1 div.sk-item::before, #sk-container-id-1 div.sk-parallel-item::before {content: \"\";position: absolute;border-left: 1px solid gray;box-sizing: border-box;top: 0;bottom: 0;left: 50%;z-index: -1;}#sk-container-id-1 div.sk-parallel-item {display: flex;flex-direction: column;z-index: 1;position: relative;background-color: white;}#sk-container-id-1 div.sk-parallel-item:first-child::after {align-self: flex-end;width: 50%;}#sk-container-id-1 div.sk-parallel-item:last-child::after {align-self: flex-start;width: 50%;}#sk-container-id-1 div.sk-parallel-item:only-child::after {width: 0;}#sk-container-id-1 div.sk-dashed-wrapped {border: 1px dashed gray;margin: 0 0.4em 0.5em 0.4em;box-sizing: border-box;padding-bottom: 0.4em;background-color: white;}#sk-container-id-1 div.sk-label label {font-family: monospace;font-weight: bold;display: inline-block;line-height: 1.2em;}#sk-container-id-1 div.sk-label-container {text-align: center;}#sk-container-id-1 div.sk-container {/* jupyter's `normalize.less` sets `[hidden] { display: none; }` but bootstrap.min.css set `[hidden] { display: none !important; }` so we also need the `!important` here to be able to override the default hidden behavior on the sphinx rendered scikit-learn.org. See: https://github.com/scikit-learn/scikit-learn/issues/21755 */display: inline-block !important;position: relative;}#sk-container-id-1 div.sk-text-repr-fallback {display: none;}</style><div id=\"sk-container-id-1\" class=\"sk-top-container\"><div class=\"sk-text-repr-fallback\"><pre>LinearRegression()</pre><b>In a Jupyter environment, please rerun this cell to show the HTML representation or trust the notebook. <br />On GitHub, the HTML representation is unable to render, please try loading this page with nbviewer.org.</b></div><div class=\"sk-container\" hidden><div class=\"sk-item\"><div class=\"sk-estimator sk-toggleable\"><input class=\"sk-toggleable__control sk-hidden--visually\" id=\"sk-estimator-id-1\" type=\"checkbox\" checked><label for=\"sk-estimator-id-1\" class=\"sk-toggleable__label sk-toggleable__label-arrow\">LinearRegression</label><div class=\"sk-toggleable__content\"><pre>LinearRegression()</pre></div></div></div></div></div>"
      ],
      "text/plain": [
       "LinearRegression()"
      ]
     },
     "execution_count": 12,
     "metadata": {},
     "output_type": "execute_result"
    }
   ],
   "source": [
    "I_reg.fit(x_distance,y_price)"
   ]
  },
  {
   "cell_type": "code",
   "execution_count": 13,
   "id": "8d224dd3",
   "metadata": {
    "execution": {
     "iopub.execute_input": "2023-12-04T16:05:34.948361Z",
     "iopub.status.busy": "2023-12-04T16:05:34.947265Z",
     "iopub.status.idle": "2023-12-04T16:05:35.281612Z",
     "shell.execute_reply": "2023-12-04T16:05:35.280501Z"
    },
    "papermill": {
     "duration": 0.343233,
     "end_time": "2023-12-04T16:05:35.283920",
     "exception": false,
     "start_time": "2023-12-04T16:05:34.940687",
     "status": "completed"
    },
    "tags": []
   },
   "outputs": [
    {
     "data": {
      "text/plain": [
       "Text(0.5, 0, 'distance in miles from farmers place')"
      ]
     },
     "execution_count": 13,
     "metadata": {},
     "output_type": "execute_result"
    },
    {
     "data": {
      "image/png": "[encoded data removed]",
      "text/plain": [
       "<Figure size 640x480 with 1 Axes>"
      ]
     },
     "metadata": {},
     "output_type": "display_data"
    }
   ],
   "source": [
    "plt.xlabel(\"distance in miles from farmers place\")"
   ]
  },
  {
   "cell_type": "code",
   "execution_count": 14,
   "id": "06534d3c",
   "metadata": {
    "execution": {
     "iopub.execute_input": "2023-12-04T16:05:35.298391Z",
     "iopub.status.busy": "2023-12-04T16:05:35.297922Z",
     "iopub.status.idle": "2023-12-04T16:05:35.490068Z",
     "shell.execute_reply": "2023-12-04T16:05:35.488665Z"
    },
    "papermill": {
     "duration": 0.20253,
     "end_time": "2023-12-04T16:05:35.492718",
     "exception": false,
     "start_time": "2023-12-04T16:05:35.290188",
     "status": "completed"
    },
    "tags": []
   },
   "outputs": [
    {
     "data": {
      "text/plain": [
       "Text(0, 0.5, 'prices at the location')"
      ]
     },
     "execution_count": 14,
     "metadata": {},
     "output_type": "execute_result"
    },
    {
     "data": {
      "image/png": "[encoded data removed]",
      "text/plain": [
       "<Figure size 640x480 with 1 Axes>"
      ]
     },
     "metadata": {},
     "output_type": "display_data"
    }
   ],
   "source": [
    "plt.ylabel(\"prices at the location\")"
   ]
  },
  {
   "cell_type": "code",
   "execution_count": 15,
   "id": "94adec07",
   "metadata": {
    "execution": {
     "iopub.execute_input": "2023-12-04T16:05:35.507452Z",
     "iopub.status.busy": "2023-12-04T16:05:35.506984Z",
     "iopub.status.idle": "2023-12-04T16:05:35.718925Z",
     "shell.execute_reply": "2023-12-04T16:05:35.718062Z"
    },
    "papermill": {
     "duration": 0.22181,
     "end_time": "2023-12-04T16:05:35.720969",
     "exception": false,
     "start_time": "2023-12-04T16:05:35.499159",
     "status": "completed"
    },
    "tags": []
   },
   "outputs": [
    {
     "data": {
      "text/plain": [
       "[<matplotlib.lines.Line2D at 0x7d575cb2a290>]"
      ]
     },
     "execution_count": 15,
     "metadata": {},
     "output_type": "execute_result"
    },
    {
     "data": {
      "image/png": "[encoded data removed]",
      "text/plain": [
       "<Figure size 640x480 with 1 Axes>"
      ]
     },
     "metadata": {},
     "output_type": "display_data"
    }
   ],
   "source": [
    "plt.plot(x_distance,y_price,\"r*--\")"
   ]
  },
  {
   "cell_type": "code",
   "execution_count": 16,
   "id": "e077198a",
   "metadata": {
    "execution": {
     "iopub.execute_input": "2023-12-04T16:05:35.737287Z",
     "iopub.status.busy": "2023-12-04T16:05:35.736692Z",
     "iopub.status.idle": "2023-12-04T16:05:35.741292Z",
     "shell.execute_reply": "2023-12-04T16:05:35.740250Z"
    },
    "papermill": {
     "duration": 0.015785,
     "end_time": "2023-12-04T16:05:35.743557",
     "exception": false,
     "start_time": "2023-12-04T16:05:35.727772",
     "status": "completed"
    },
    "tags": []
   },
   "outputs": [],
   "source": [
    "check_at_distance=np.array([45]).reshape(1,1)"
   ]
  },
  {
   "cell_type": "code",
   "execution_count": 17,
   "id": "a4946409",
   "metadata": {
    "execution": {
     "iopub.execute_input": "2023-12-04T16:05:35.759872Z",
     "iopub.status.busy": "2023-12-04T16:05:35.759497Z",
     "iopub.status.idle": "2023-12-04T16:05:35.764258Z",
     "shell.execute_reply": "2023-12-04T16:05:35.763145Z"
    },
    "papermill": {
     "duration": 0.015646,
     "end_time": "2023-12-04T16:05:35.766614",
     "exception": false,
     "start_time": "2023-12-04T16:05:35.750968",
     "status": "completed"
    },
    "tags": []
   },
   "outputs": [],
   "source": [
    "predict=I_reg.predict(check_at_distance)"
   ]
  },
  {
   "cell_type": "code",
   "execution_count": 18,
   "id": "26baff1a",
   "metadata": {
    "execution": {
     "iopub.execute_input": "2023-12-04T16:05:35.782621Z",
     "iopub.status.busy": "2023-12-04T16:05:35.782202Z",
     "iopub.status.idle": "2023-12-04T16:05:35.786348Z",
     "shell.execute_reply": "2023-12-04T16:05:35.785576Z"
    },
    "papermill": {
     "duration": 0.014312,
     "end_time": "2023-12-04T16:05:35.788319",
     "exception": false,
     "start_time": "2023-12-04T16:05:35.774007",
     "status": "completed"
    },
    "tags": []
   },
   "outputs": [],
   "source": [
    "predict=I_reg.predict(x_distance)"
   ]
  },
  {
   "cell_type": "code",
   "execution_count": 19,
   "id": "d94af85c",
   "metadata": {
    "execution": {
     "iopub.execute_input": "2023-12-04T16:05:35.804669Z",
     "iopub.status.busy": "2023-12-04T16:05:35.804066Z",
     "iopub.status.idle": "2023-12-04T16:05:35.808476Z",
     "shell.execute_reply": "2023-12-04T16:05:35.807558Z"
    },
    "papermill": {
     "duration": 0.015058,
     "end_time": "2023-12-04T16:05:35.810693",
     "exception": false,
     "start_time": "2023-12-04T16:05:35.795635",
     "status": "completed"
    },
    "tags": []
   },
   "outputs": [],
   "source": [
    "mse=mean_squared_error(y_price,predict)"
   ]
  },
  {
   "cell_type": "code",
   "execution_count": 20,
   "id": "23609c14",
   "metadata": {
    "execution": {
     "iopub.execute_input": "2023-12-04T16:05:35.826248Z",
     "iopub.status.busy": "2023-12-04T16:05:35.825812Z",
     "iopub.status.idle": "2023-12-04T16:05:35.832347Z",
     "shell.execute_reply": "2023-12-04T16:05:35.831283Z"
    },
    "papermill": {
     "duration": 0.01714,
     "end_time": "2023-12-04T16:05:35.834615",
     "exception": false,
     "start_time": "2023-12-04T16:05:35.817475",
     "status": "completed"
    },
    "tags": []
   },
   "outputs": [
    {
     "data": {
      "text/plain": [
       "26.097972748421416"
      ]
     },
     "execution_count": 20,
     "metadata": {},
     "output_type": "execute_result"
    }
   ],
   "source": [
    "mse"
   ]
  }
 ],
 "metadata": {
  "kaggle": {
   "accelerator": "none",
   "dataSources": [
    {
     "datasetId": 1256,
     "sourceId": 2242,
     "sourceType": "datasetVersion"
    },
    {
     "datasetId": 1642789,
     "sourceId": 7121082,
     "sourceType": "datasetVersion"
    },
    {
     "datasetId": 239789,
     "sourceId": 508365,
     "sourceType": "datasetVersion"
    },
    {
     "datasetId": 4107762,
     "sourceId": 7121655,
     "sourceType": "datasetVersion"
    }
   ],
   "dockerImageVersionId": 30587,
   "isGpuEnabled": false,
   "isInternetEnabled": false,
   "language": "python",
   "sourceType": "notebook"
  },
  "kernelspec": {
   "display_name": "Python 3",
   "language": "python",
   "name": "python3"
  },
  "language_info": {
   "codemirror_mode": {
    "name": "ipython",
    "version": 3
   },
   "file_extension": ".py",
   "mimetype": "text/x-python",
   "name": "python",
   "nbconvert_exporter": "python",
   "pygments_lexer": "ipython3",
   "version": "3.10.12"
  },
  "papermill": {
   "default_parameters": {},
   "duration": 6.620214,
   "end_time": "2023-12-04T16:05:36.462069",
   "environment_variables": {},
   "exception": null,
   "input_path": "__notebook__.ipynb",
   "output_path": "__notebook__.ipynb",
   "parameters": {},
   "start_time": "2023-12-04T16:05:29.841855",
   "version": "2.4.0"
  }
 },
 "nbformat": 4,
 "nbformat_minor": 5
}
